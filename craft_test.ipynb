{
 "cells": [
  {
   "cell_type": "code",
   "execution_count": 1,
   "metadata": {},
   "outputs": [
    {
     "name": "stdout",
     "output_type": "stream",
     "text": [
      "Loading weights from checkpoint (E:\\Hekate\\OCR_Project\\CRAFT-pytorch\\craft_mlt_25k.pth)\n"
     ]
    },
    {
     "name": "stderr",
     "output_type": "stream",
     "text": [
      "c:\\Users\\Admin\\miniconda3\\lib\\site-packages\\torchvision\\models\\_utils.py:252: UserWarning: Accessing the model URLs via the internal dictionary of the module is deprecated since 0.13 and may be removed in the future. Please access them via the appropriate Weights Enum instead.\n",
      "  warnings.warn(\n",
      "c:\\Users\\Admin\\miniconda3\\lib\\site-packages\\torchvision\\models\\_utils.py:208: UserWarning: The parameter 'pretrained' is deprecated since 0.13 and may be removed in the future, please use 'weights' instead.\n",
      "  warnings.warn(\n",
      "c:\\Users\\Admin\\miniconda3\\lib\\site-packages\\torchvision\\models\\_utils.py:223: UserWarning: Arguments other than a weight enum or `None` for 'weights' are deprecated since 0.13 and may be removed in the future. The current behavior is equivalent to passing `weights=None`.\n",
      "  warnings.warn(msg)\n",
      "Traceback (most recent call last):\n",
      "  File \"E:\\Hekate\\OCR_Project\\CRAFT-pytorch\\test.py\", line 128, in <module>\n",
      "    net.load_state_dict(copyStateDict(torch.load(args.trained_model)))\n",
      "  File \"c:\\Users\\Admin\\miniconda3\\lib\\site-packages\\torch\\serialization.py\", line 795, in load\n",
      "    return _legacy_load(opened_file, map_location, pickle_module, **pickle_load_args)\n",
      "  File \"c:\\Users\\Admin\\miniconda3\\lib\\site-packages\\torch\\serialization.py\", line 1012, in _legacy_load\n",
      "    result = unpickler.load()\n",
      "  File \"c:\\Users\\Admin\\miniconda3\\lib\\site-packages\\torch\\serialization.py\", line 958, in persistent_load\n",
      "    wrap_storage=restore_location(obj, location),\n",
      "  File \"c:\\Users\\Admin\\miniconda3\\lib\\site-packages\\torch\\serialization.py\", line 215, in default_restore_location\n",
      "    result = fn(storage, location)\n",
      "  File \"c:\\Users\\Admin\\miniconda3\\lib\\site-packages\\torch\\serialization.py\", line 182, in _cuda_deserialize\n",
      "    device = validate_cuda_device(location)\n",
      "  File \"c:\\Users\\Admin\\miniconda3\\lib\\site-packages\\torch\\serialization.py\", line 166, in validate_cuda_device\n",
      "    raise RuntimeError('Attempting to deserialize object on a CUDA '\n",
      "RuntimeError: Attempting to deserialize object on a CUDA device but torch.cuda.is_available() is False. If you are running on a CPU-only machine, please use torch.load with map_location=torch.device('cpu') to map your storages to the CPU.\n"
     ]
    }
   ],
   "source": [
    "!python E:\\Hekate\\OCR_Project\\CRAFT-pytorch\\test.py  --trained_model=E:\\Hekate\\OCR_Project\\CRAFT-pytorch\\craft_mlt_25k.pth --test_folder=E:\\Hekate\\OCR_Project\\web_api\\test_data --cuda=True\n"
   ]
  },
  {
   "cell_type": "code",
   "execution_count": 2,
   "metadata": {},
   "outputs": [
    {
     "name": "stderr",
     "output_type": "stream",
     "text": [
      "c:\\Users\\Admin\\miniconda3\\lib\\site-packages\\tqdm\\auto.py:22: TqdmWarning: IProgress not found. Please update jupyter and ipywidgets. See https://ipywidgets.readthedocs.io/en/stable/user_install.html\n",
      "  from .autonotebook import tqdm as notebook_tqdm\n"
     ]
    },
    {
     "data": {
      "text/plain": [
       "False"
      ]
     },
     "execution_count": 2,
     "metadata": {},
     "output_type": "execute_result"
    }
   ],
   "source": [
    "import torch\n",
    "torch.cuda.is_available()"
   ]
  },
  {
   "cell_type": "code",
   "execution_count": null,
   "metadata": {},
   "outputs": [],
   "source": []
  }
 ],
 "metadata": {
  "kernelspec": {
   "display_name": "Python 3",
   "language": "python",
   "name": "python3"
  },
  "language_info": {
   "codemirror_mode": {
    "name": "ipython",
    "version": 3
   },
   "file_extension": ".py",
   "mimetype": "text/x-python",
   "name": "python",
   "nbconvert_exporter": "python",
   "pygments_lexer": "ipython3",
   "version": "3.10.8"
  },
  "orig_nbformat": 4,
  "vscode": {
   "interpreter": {
    "hash": "bd97b8bffa4d3737e84826bc3d37be3046061822757ce35137ab82ad4c5a2016"
   }
  }
 },
 "nbformat": 4,
 "nbformat_minor": 2
}
